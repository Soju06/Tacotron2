{
 "cells": [
  {
   "cell_type": "code",
   "execution_count": 1,
   "metadata": {},
   "outputs": [
    {
     "name": "stderr",
     "output_type": "stream",
     "text": [
      "2023-08-12 06:30:22.015213: I tensorflow/core/platform/cpu_feature_guard.cc:182] This TensorFlow binary is optimized to use available CPU instructions in performance-critical operations.\n",
      "To enable the following instructions: AVX2 FMA, in other operations, rebuild TensorFlow with the appropriate compiler flags.\n",
      "2023-08-12 06:30:22.738485: W tensorflow/compiler/tf2tensorrt/utils/py_utils.cc:38] TF-TRT Warning: Could not find TensorRT\n"
     ]
    }
   ],
   "source": [
    "import numpy as np\n",
    "import torch\n",
    "from hifigan import HiFiGAN, HiFiGANConfig, HiFiGANAudioConfig\n",
    "from model import Tacotron2, Tacotron2Config, Tacotron2TrainState, Tacotron2Trainer\n",
    "from dataset import Tacotron2Dataset, Tacotron2AudioConfig, Tacotron2SpeakerDataset"
   ]
  },
  {
   "cell_type": "code",
   "execution_count": 22,
   "metadata": {},
   "outputs": [],
   "source": [
    "device = torch.device(\"cuda\" if torch.cuda.is_available() else \"cpu\")\n",
    "hifigan = HiFiGAN.load(\"../hifigan_model_1200000_0.3101.pt\", device=device)\n",
    "tacotron2 = Tacotron2.load(\"./output/checkpoints/t7/model_450000_0.2514.pt\", device=device)"
   ]
  },
  {
   "cell_type": "code",
   "execution_count": 11,
   "metadata": {},
   "outputs": [
    {
     "data": {
      "text/plain": [
       "225"
      ]
     },
     "execution_count": 11,
     "metadata": {},
     "output_type": "execute_result"
    }
   ],
   "source": [
    "HiFiGAN.load(\"../z/z/checkpoints/17/model_best_0.2941.pt\", device=device).train_state.epoch"
   ]
  },
  {
   "cell_type": "code",
   "execution_count": 14,
   "metadata": {},
   "outputs": [],
   "source": [
    "speaker_dataset = Tacotron2SpeakerDataset(\"/mnt/ramdisk/5474_G2A1E7_YSH\")"
   ]
  },
  {
   "cell_type": "code",
   "execution_count": 5,
   "metadata": {},
   "outputs": [],
   "source": [
    "import matplotlib\n",
    "from matplotlib import pyplot as plt\n",
    "from IPython.display import display, Audio\n",
    "\n",
    "def plot(mel, attn):\n",
    "    fig, axs = plt.subplots(2, 1)\n",
    "    im1 = axs[0].imshow(mel, aspect=\"auto\", origin=\"lower\")\n",
    "    axs[0].set_title(\"Original Mel\")\n",
    "    fig.colorbar(im1, ax=axs[0])\n",
    "\n",
    "    im2 = axs[1].imshow(attn, aspect=\"auto\", origin=\"lower\")\n",
    "    axs[1].set_title(\"Attention\")\n",
    "    axs[1].set_xlabel(\"Audio timestep\")\n",
    "    axs[1].set_ylabel(\"Text timestep\")\n",
    "    axs[1].set_xlim(0, attn.shape[1])\n",
    "    axs[1].set_ylim(0, attn.shape[0])\n",
    "    fig.colorbar(im2, ax=axs[1])\n",
    "\n",
    "    fig.tight_layout()\n",
    "\n",
    "    return fig"
   ]
  },
  {
   "cell_type": "code",
   "execution_count": null,
   "metadata": {},
   "outputs": [],
   "source": [
    "mel, audio, attn = tacotron2(\n",
    "    inputs=\"프론트는 이번에 웹소켓 쓰는게 낫지 않아?\",\n",
    "    speakers=speaker_dataset.embeds(),\n",
    "    vocoder=hifigan,\n",
    "    include_attention=True,\n",
    ")\n",
    "\n",
    "# write(\"test.wav\", 44100, (audios[0].cpu().numpy().squeeze() * 32768.0).astype(np.int16))\n",
    "audio = audio.cpu().numpy().squeeze()\n",
    "display(Audio(audio, rate=44100))\n",
    "plot(mel.cpu().numpy().squeeze().T, attn.cpu().numpy().squeeze()).show()"
   ]
  }
 ],
 "metadata": {
  "kernelspec": {
   "display_name": "pt310",
   "language": "python",
   "name": "python3"
  },
  "language_info": {
   "codemirror_mode": {
    "name": "ipython",
    "version": 3
   },
   "file_extension": ".py",
   "mimetype": "text/x-python",
   "name": "python",
   "nbconvert_exporter": "python",
   "pygments_lexer": "ipython3",
   "version": "3.10.10"
  },
  "orig_nbformat": 4
 },
 "nbformat": 4,
 "nbformat_minor": 2
}
